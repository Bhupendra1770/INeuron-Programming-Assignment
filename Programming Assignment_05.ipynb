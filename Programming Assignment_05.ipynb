{
 "cells": [
  {
   "cell_type": "markdown",
   "id": "546748b2",
   "metadata": {},
   "source": [
    "### 1. Write a Python Program to find LCM ?"
   ]
  },
  {
   "cell_type": "code",
   "execution_count": 17,
   "id": "88740999",
   "metadata": {},
   "outputs": [
    {
     "name": "stdout",
     "output_type": "stream",
     "text": [
      "The L.C.M. is 459\n"
     ]
    }
   ],
   "source": [
    "def compute_lcm(x, y):   \n",
    "# choose the greater number\n",
    "    if x > y:\n",
    "        greater = x\n",
    "    else:\n",
    "        greater = y\n",
    "\n",
    "    while(True):\n",
    "        if((greater % x == 0) and (greater % y == 0)):\n",
    "            lcm = greater\n",
    "            break\n",
    "        greater += 1\n",
    "\n",
    "    return lcm\n",
    "\n",
    "num1 = 17\n",
    "num2 = 27\n",
    "\n",
    "print(\"The L.C.M. is\", compute_lcm(num1, num2))"
   ]
  },
  {
   "cell_type": "markdown",
   "id": "5458fa74",
   "metadata": {},
   "source": [
    "### 2. Write a Python Program to find HCF ?"
   ]
  },
  {
   "cell_type": "code",
   "execution_count": 18,
   "id": "789d08d9",
   "metadata": {},
   "outputs": [
    {
     "name": "stdout",
     "output_type": "stream",
     "text": [
      "Enter first number: 17\n",
      "Enter second number: 43\n",
      "The H.C.F. of 17 and 43 is 1\n"
     ]
    }
   ],
   "source": [
    "def calculate_hcf(x, y):  \n",
    "# selecting the smaller number  \n",
    "    if x > y:  \n",
    "        smaller = y  \n",
    "    else:  \n",
    "        smaller = x  \n",
    "    for i in range(1,smaller + 1):  \n",
    "        if((x % i == 0) and (y % i == 0)):  \n",
    "            hcf = i  \n",
    "    return hcf  \n",
    "  \n",
    "# taking input from users  \n",
    "num1 = int(input(\"Enter first number: \"))  \n",
    "num2 = int(input(\"Enter second number: \"))  \n",
    "# printing the result for the users  \n",
    "print(\"The H.C.F. of\", num1,\"and\", num2,\"is\", calculate_hcf(num1, num2))  "
   ]
  },
  {
   "cell_type": "markdown",
   "id": "a21f8214",
   "metadata": {},
   "source": [
    "### 3. Write a Python Program to Convert Decimal to Binary, Octal and Hexadecimal ?"
   ]
  },
  {
   "cell_type": "code",
   "execution_count": 20,
   "id": "89712645",
   "metadata": {},
   "outputs": [
    {
     "name": "stdout",
     "output_type": "stream",
     "text": [
      "Enter a Number: 77777\n",
      "Binary = 0b10010111111010001\n",
      "Octal = 0o227721\n",
      "Hexadecimal = 0x12fd1\n"
     ]
    }
   ],
   "source": [
    "def convert_decimal():\n",
    "    num = int(input('Enter a Number: '))\n",
    "    print(f'Binary = {bin(num)}')\n",
    "    print(f'Octal = {oct(num)}')    \n",
    "    print(f'Hexadecimal = {hex(num)}')    \n",
    "\n",
    "convert_decimal()"
   ]
  },
  {
   "cell_type": "markdown",
   "id": "433ed424",
   "metadata": {},
   "source": [
    "### 4. Write a Python Program to Find the ASCII value of  a Character ?"
   ]
  },
  {
   "cell_type": "code",
   "execution_count": 21,
   "id": "7703265f",
   "metadata": {},
   "outputs": [
    {
     "name": "stdout",
     "output_type": "stream",
     "text": [
      "Enter a Character: R\n",
      "Ascii Character of R is 82\n"
     ]
    }
   ],
   "source": [
    "def Check_ASCII():\n",
    "    char = input('Enter a Character: ')\n",
    "    if len(char) > 1:\n",
    "        print('Please Enter a Single Character')\n",
    "    else:\n",
    "        print(f'Ascii Character of {char} is {ord(char)}')\n",
    "\n",
    "Check_ASCII()"
   ]
  },
  {
   "cell_type": "markdown",
   "id": "897467f1",
   "metadata": {},
   "source": [
    "### 5. Write a Python Program to Make a Simple Calculator with 4 Basic Mathematical operations ?"
   ]
  },
  {
   "cell_type": "code",
   "execution_count": 32,
   "id": "224d7a21",
   "metadata": {},
   "outputs": [
    {
     "name": "stdout",
     "output_type": "stream",
     "text": [
      "Please select the operation.\n",
      "a. Add\n",
      "b. Subtract\n",
      "c. Multiply\n",
      "d. Divide\n",
      "Please enter the first number: 7\n",
      "Please enter the second number: 17\n",
      "Please enter choice (a/ b/ c/ d): c\n",
      "17  *  43  =  731\n",
      "Please enter the first number: 7\n",
      "Please enter the second number: 8\n",
      "Please enter choice (a/ b/ c/ d): b\n",
      "7  -  8  =  -1\n",
      "Please enter the first number: 0\n",
      "Please enter the second number: 0\n",
      "Please enter choice (a/ b/ c/ d): 0\n",
      "Programm stopped successfully\n"
     ]
    }
   ],
   "source": [
    "print (\"Please select the operation.\")    \n",
    "print (\"a. Add\")    \n",
    "print (\"b. Subtract\")    \n",
    "print (\"c. Multiply\")    \n",
    "print (\"d. Divide\")    \n",
    "           \n",
    "    \n",
    "while True:\n",
    "    num_1 = int (input (\"Please enter the first number: \"))    \n",
    "    num_2 = int (input (\"Please enter the second number: \")) \n",
    "    choice = input(\"Please enter choice (a/ b/ c/ d): \")\n",
    "    if choice == \"0\":\n",
    "        print(\"Programm stopped successfully\")\n",
    "        break\n",
    "    elif choice == 'a':    \n",
    "        print (num_1, \" + \", num_2, \" = \", num_1+num2) \n",
    "\n",
    "    elif choice == 'b':    \n",
    "        print (num_1, \" - \", num_2, \" = \", num_1-num_2)    \n",
    "\n",
    "    elif choice == 'c':    \n",
    "        print (num1, \" * \", num2, \" = \", num1*num2)    \n",
    "    elif choice == 'd':    \n",
    "        print (num_1, \" / \", num_2, \" = \", num_1/num_2)    \n",
    "    else:    \n",
    "        print (\"This is an invalid input\")    "
   ]
  }
 ],
 "metadata": {
  "kernelspec": {
   "display_name": "Python 3 (ipykernel)",
   "language": "python",
   "name": "python3"
  },
  "language_info": {
   "codemirror_mode": {
    "name": "ipython",
    "version": 3
   },
   "file_extension": ".py",
   "mimetype": "text/x-python",
   "name": "python",
   "nbconvert_exporter": "python",
   "pygments_lexer": "ipython3",
   "version": "3.9.12"
  }
 },
 "nbformat": 4,
 "nbformat_minor": 5
}
