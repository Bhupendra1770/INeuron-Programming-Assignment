{
 "cells": [
  {
   "cell_type": "markdown",
   "id": "656845d3",
   "metadata": {},
   "source": [
    "### 1. Write a Python Program to find sum of Array ?"
   ]
  },
  {
   "cell_type": "code",
   "execution_count": 1,
   "id": "7ea2fd5c",
   "metadata": {},
   "outputs": [
    {
     "name": "stdout",
     "output_type": "stream",
     "text": [
      "The sum of [1, 2, 3, 4, 5, 6, 7] is 28\n"
     ]
    }
   ],
   "source": [
    "def sum_array(array):\n",
    "    print(f'The sum of {array} is {sum(array)}')\n",
    "\n",
    "    \n",
    "array = [1,2,3,4,5,6,7]    \n",
    "sum_array(array)"
   ]
  },
  {
   "cell_type": "markdown",
   "id": "e41c1983",
   "metadata": {},
   "source": [
    "### 2. Write a Python Program to find Largest element in an Array ?"
   ]
  },
  {
   "cell_type": "code",
   "execution_count": 2,
   "id": "f5457cb3",
   "metadata": {},
   "outputs": [
    {
     "name": "stdout",
     "output_type": "stream",
     "text": [
      "The Largest Element in [5, 6, 7, 2, 5, 77, 34, 3] is 77\n"
     ]
    }
   ],
   "source": [
    "def largest_element(array):\n",
    "    print(f\"The Largest Element in {array} is {max(array)}\")\n",
    "\n",
    "array = [5,6,7,2,5,77,34,3]\n",
    "largest_element(array)"
   ]
  },
  {
   "cell_type": "markdown",
   "id": "a7605b7d",
   "metadata": {},
   "source": [
    "### 3. Write a Python Program for array rotation ?"
   ]
  },
  {
   "cell_type": "code",
   "execution_count": 3,
   "id": "987fb7ff",
   "metadata": {},
   "outputs": [
    {
     "name": "stdout",
     "output_type": "stream",
     "text": [
      "The Reverse of Array [5, 6, 7, 2, 5, 77, 34, 3] is [3, 34, 77, 5, 2, 7, 6, 5]\n"
     ]
    }
   ],
   "source": [
    "def reverse_array(array):\n",
    "    print(f\"The Reverse of Array {array} is {array[::-1]}\")\n",
    "\n",
    "array = [5,6,7,2,5,77,34,3]\n",
    "reverse_array(array)"
   ]
  },
  {
   "cell_type": "markdown",
   "id": "7d2207c1",
   "metadata": {},
   "source": [
    "### 4. Write a Python Program to Split the array and add the first part to the end ?"
   ]
  },
  {
   "cell_type": "code",
   "execution_count": 4,
   "id": "a765de3d",
   "metadata": {},
   "outputs": [
    {
     "name": "stdout",
     "output_type": "stream",
     "text": [
      "The Sum of First and Last Elements of Array [5, 6, 7, 2, 5, 77, 34, 3] is 8\n"
     ]
    }
   ],
   "source": [
    "def sum_first_last_ele(array):\n",
    "    print(f\"The Sum of First and Last Elements of Array {array} is {array[0]+array[-1]}\")\n",
    "    \n",
    "array = [5,6,7,2,5,77,34,3]    \n",
    "sum_first_last_ele(array)"
   ]
  },
  {
   "cell_type": "markdown",
   "id": "a10e084d",
   "metadata": {},
   "source": [
    "### 5. Write a Python Program to check if given array is Monotonic ?"
   ]
  },
  {
   "cell_type": "code",
   "execution_count": 5,
   "id": "e47a196d",
   "metadata": {},
   "outputs": [],
   "source": [
    "def monotonic_array(array):\n",
    "    arr = []\n",
    "    for i in range(len(array)-1):\n",
    "        if array[i+1] in array:\n",
    "            if array[i] < (array[i+1]):\n",
    "                arr.append(array[i])      \n",
    "            else:\n",
    "                return ('array is not Monotonic',array)\n",
    "    return ('array is Monotonic',array)    \n",
    "        "
   ]
  },
  {
   "cell_type": "code",
   "execution_count": 6,
   "id": "a71bcb82",
   "metadata": {},
   "outputs": [
    {
     "name": "stdout",
     "output_type": "stream",
     "text": [
      "('array is Monotonic', [1, 2, 3, 4, 5, 6, 7])\n",
      "('array is not Monotonic', [7, 6, 8, 3, 4, 9, 4, 5, 6, 1])\n"
     ]
    }
   ],
   "source": [
    "array1 = [1,2,3,4,5,6,7]\n",
    "array2 = [7,6,8,3,4,9,4,5,6,1]\n",
    "print(monotonic_array(array1))\n",
    "print(monotonic_array(array2))"
   ]
  }
 ],
 "metadata": {
  "kernelspec": {
   "display_name": "Python 3 (ipykernel)",
   "language": "python",
   "name": "python3"
  },
  "language_info": {
   "codemirror_mode": {
    "name": "ipython",
    "version": 3
   },
   "file_extension": ".py",
   "mimetype": "text/x-python",
   "name": "python",
   "nbconvert_exporter": "python",
   "pygments_lexer": "ipython3",
   "version": "3.9.12"
  }
 },
 "nbformat": 4,
 "nbformat_minor": 5
}
