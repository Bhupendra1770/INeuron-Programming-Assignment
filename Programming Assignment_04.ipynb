{
 "cells": [
  {
   "cell_type": "markdown",
   "metadata": {},
   "source": [
    "### 1.Write a Python Program to find the factorial of a number ?"
   ]
  },
  {
   "cell_type": "code",
   "execution_count": 7,
   "metadata": {},
   "outputs": [
    {
     "name": "stdout",
     "output_type": "stream",
     "text": [
      "enter a number5\n"
     ]
    },
    {
     "data": {
      "text/plain": [
       "120"
      ]
     },
     "execution_count": 7,
     "metadata": {},
     "output_type": "execute_result"
    }
   ],
   "source": [
    "num = int(input(\"enter a number\"))\n",
    "def fact_num(num):\n",
    "    l = 1\n",
    "    for i in range(1,num+1):\n",
    "        l = l*i\n",
    "    return l    \n",
    "        \n",
    "        \n",
    "fact_num(num)    "
   ]
  },
  {
   "cell_type": "markdown",
   "metadata": {},
   "source": [
    "### 2.Write a Python Program to display the multiplication table ?"
   ]
  },
  {
   "cell_type": "code",
   "execution_count": 2,
   "metadata": {},
   "outputs": [
    {
     "name": "stdout",
     "output_type": "stream",
     "text": [
      "Enter a base number = 7\n",
      "Enter no of counts = 7\n",
      "7 X 1 = 7\n",
      "7 X 2 = 14\n",
      "7 X 3 = 21\n",
      "7 X 4 = 28\n",
      "7 X 5 = 35\n",
      "7 X 6 = 42\n",
      "7 X 7 = 49\n"
     ]
    }
   ],
   "source": [
    "def Table(base,counts):\n",
    "    for x in range(1,counts+1):\n",
    "        print(f'{base} X {x} = {counts*x}')\n",
    "\n",
    "num = int(input('Enter a base number = '))\n",
    "counts = int(input('Enter no of counts = '))\n",
    "Table(num,counts)"
   ]
  },
  {
   "cell_type": "markdown",
   "metadata": {},
   "source": [
    "### 3.Write a Python Program to print the fibonacci sequence ?"
   ]
  },
  {
   "cell_type": "code",
   "execution_count": 3,
   "metadata": {},
   "outputs": [
    {
     "name": "stdout",
     "output_type": "stream",
     "text": [
      "[1, 2, 3, 5, 8, 13, 21, 34, 55, 89, 144, 233, 377, 610, 987, 1597, 2584]\n"
     ]
    }
   ],
   "source": [
    "n = 0\n",
    "m = 1\n",
    "l = []\n",
    "for i in range(17):\n",
    "    #settting temp variable\n",
    "    k=n\n",
    "    j=m\n",
    "    #append number in list\n",
    "    l.append(n+m)\n",
    "    #set new number\n",
    "    n = j\n",
    "    m = k+j\n",
    "print(l)    "
   ]
  },
  {
   "cell_type": "markdown",
   "metadata": {},
   "source": [
    "### 4.Write a Python Program to check Armstrong number ?"
   ]
  },
  {
   "cell_type": "code",
   "execution_count": 4,
   "metadata": {},
   "outputs": [
    {
     "name": "stdout",
     "output_type": "stream",
     "text": [
      "Enter a number: 153\n",
      "153 is a Armstrong Number\n"
     ]
    }
   ],
   "source": [
    "def ArmstrongNumber():\n",
    "    num = input('Enter a number: ')\n",
    "    sum = 0\n",
    "    for char in range(len(num)):\n",
    "        sum = sum + pow(int(num[char]),3)\n",
    "    if sum == int(num):\n",
    "        print(f'{num} is a Armstrong Number')\n",
    "    else:\n",
    "        print(f'{num} is a Not Armstrong Number')\n",
    "\n",
    "\n",
    "ArmstrongNumber()"
   ]
  },
  {
   "cell_type": "markdown",
   "metadata": {},
   "source": [
    "### 5.Write a Python Program to Find Armstrong number in an interval ?"
   ]
  },
  {
   "cell_type": "code",
   "execution_count": 5,
   "metadata": {},
   "outputs": [
    {
     "name": "stdout",
     "output_type": "stream",
     "text": [
      "enter starting number = 1\n",
      "enter ending number = 1000\n",
      "[1, 153, 370, 371, 407]\n"
     ]
    }
   ],
   "source": [
    "s = int(input(\"enter starting number = \"))\n",
    "e = int(input(\"enter ending number = \"))\n",
    "def Armstrong_in_interval():\n",
    "    l=[]\n",
    "    for num in range(s,e):\n",
    "        sum = 0\n",
    "        for char in range(len(str(num))):\n",
    "            num = str(num)\n",
    "            sum = sum + pow(int(num[char]),3)\n",
    "        if sum == int(num):\n",
    "            l.append(sum)\n",
    "    return l \n",
    "\n",
    "print(Armstrong_in_interval())"
   ]
  },
  {
   "cell_type": "markdown",
   "metadata": {},
   "source": [
    "### 6.Write a Python Program to sum of natural numbers ?"
   ]
  },
  {
   "cell_type": "code",
   "execution_count": 6,
   "metadata": {},
   "outputs": [
    {
     "name": "stdout",
     "output_type": "stream",
     "text": [
      "Sum of natural numbers is 2485.0\n"
     ]
    }
   ],
   "source": [
    "def sum_natural_number(num):\n",
    "    sum = num*((num+1)/2)\n",
    "    print(f'Sum of natural numbers is {sum}')\n",
    "    \n",
    "\n",
    "sum_natural_number(70)"
   ]
  }
 ],
 "metadata": {
  "kernelspec": {
   "display_name": "Python 3 (ipykernel)",
   "language": "python",
   "name": "python3"
  },
  "language_info": {
   "codemirror_mode": {
    "name": "ipython",
    "version": 3
   },
   "file_extension": ".py",
   "mimetype": "text/x-python",
   "name": "python",
   "nbconvert_exporter": "python",
   "pygments_lexer": "ipython3",
   "version": "3.9.12"
  }
 },
 "nbformat": 4,
 "nbformat_minor": 4
}
