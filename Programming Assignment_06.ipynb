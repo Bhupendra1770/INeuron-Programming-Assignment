{
 "cells": [
  {
   "cell_type": "markdown",
   "id": "a5535ec4",
   "metadata": {},
   "source": [
    "#### 1. Write a Python Program to Display Fibonacci Sequence using Recursion ?"
   ]
  },
  {
   "cell_type": "code",
   "execution_count": 1,
   "id": "e270db1b",
   "metadata": {},
   "outputs": [
    {
     "name": "stdout",
     "output_type": "stream",
     "text": [
      "Enter the length of Series: 5\n",
      "1, 2, 3, 5, 8, "
     ]
    }
   ],
   "source": [
    "def Fibon_Recur(n,a,b):\n",
    "    if n == 0:\n",
    "        return 1\n",
    "    else:\n",
    "        result = a+b\n",
    "        print(result, end=', ')\n",
    "        Fibon_Recur(n-1,b,result)\n",
    "num = int(input('Enter the length of Series: '))\n",
    "Fibon_Recur(num,0,1)"
   ]
  },
  {
   "cell_type": "markdown",
   "id": "790838c7",
   "metadata": {},
   "source": [
    "### 2. Write a Python Program to Find Factorial of a Number using Recursion ?"
   ]
  },
  {
   "cell_type": "code",
   "execution_count": 2,
   "id": "12104b25",
   "metadata": {},
   "outputs": [
    {
     "data": {
      "text/plain": [
       "120"
      ]
     },
     "execution_count": 2,
     "metadata": {},
     "output_type": "execute_result"
    }
   ],
   "source": [
    "def fact(n):\n",
    "    if n==1:\n",
    "        return n\n",
    "    else:\n",
    "        return n * fact(n-1)\n",
    "    \n",
    "fact(5)    "
   ]
  },
  {
   "cell_type": "markdown",
   "id": "a467ab1e",
   "metadata": {},
   "source": [
    "### 3. Write a Python Program to Calculate your Body Mass Index ?"
   ]
  },
  {
   "cell_type": "code",
   "execution_count": 3,
   "id": "c45c3d17",
   "metadata": {},
   "outputs": [
    {
     "name": "stdout",
     "output_type": "stream",
     "text": [
      "Please enter your height in inches: 67\n",
      "Please enter your weight in pound: 121\n",
      "Your Body Mass Index is:  18.95\n",
      "Normal.\n"
     ]
    }
   ],
   "source": [
    "while True:\n",
    "    try:\n",
    "        Height = float(input(\"Please enter your height in inches: \"))\n",
    "        Weight = float(input(\"Please enter your weight in pound: \"))\n",
    "    except ValueError:\n",
    "        print(\"Please provide valid input.\")\n",
    "        continue \n",
    "    else:\n",
    "        if Height <= 0 or Weight <= 0:\n",
    "            print(\"Your input must not be zero or less.\")\n",
    "            continue\n",
    "        else:\n",
    "            BMIIndex = round(Weight / (Height * Height) * 703, 2)\n",
    "            print(\"Your Body Mass Index is: \", BMIIndex)\n",
    "\n",
    "            if BMIIndex < 18.5:\n",
    "                print(\"Underweight.\")\n",
    "            elif BMIIndex <= 24.9:\n",
    "                print(\"Normal.\")\n",
    "            elif BMIIndex <= 29.9:\n",
    "                print(\"Overweight.\")\n",
    "            else:\n",
    "                print(\"Obese.\")\n",
    "        break"
   ]
  },
  {
   "cell_type": "markdown",
   "id": "67f593fe",
   "metadata": {},
   "source": [
    "### 4. Write a Python Program to Calculate the Natural Logarithm of any Number ?"
   ]
  },
  {
   "cell_type": "code",
   "execution_count": 4,
   "id": "4e2b8d0f",
   "metadata": {},
   "outputs": [
    {
     "name": "stdout",
     "output_type": "stream",
     "text": [
      "Enter a Number:21\n",
      "3.044522437723423\n"
     ]
    }
   ],
   "source": [
    "import math\n",
    "#math.log(x, base)      \n",
    "# base = Default is 'e'\n",
    "def Nat_log():\n",
    "    num = int(input(\"Enter a Number:\"))\n",
    "    print(math.log(num))\n",
    "\n",
    "Nat_log()"
   ]
  },
  {
   "cell_type": "markdown",
   "id": "754827ea",
   "metadata": {},
   "source": [
    "### 5. Write a Python Program for Cube sum of first n Natural Numbers ?"
   ]
  },
  {
   "cell_type": "code",
   "execution_count": 5,
   "id": "a873a203",
   "metadata": {},
   "outputs": [
    {
     "name": "stdout",
     "output_type": "stream",
     "text": [
      "enter a number 4\n",
      "100\n"
     ]
    }
   ],
   "source": [
    "num = int(input(\"enter a number \"))\n",
    "number = 0\n",
    "for i in range(1,num+1):\n",
    "    cube = i**3\n",
    "    number = number+cube\n",
    "    \n",
    "print(number)    "
   ]
  }
 ],
 "metadata": {
  "kernelspec": {
   "display_name": "Python 3 (ipykernel)",
   "language": "python",
   "name": "python3"
  },
  "language_info": {
   "codemirror_mode": {
    "name": "ipython",
    "version": 3
   },
   "file_extension": ".py",
   "mimetype": "text/x-python",
   "name": "python",
   "nbconvert_exporter": "python",
   "pygments_lexer": "ipython3",
   "version": "3.9.12"
  }
 },
 "nbformat": 4,
 "nbformat_minor": 5
}
