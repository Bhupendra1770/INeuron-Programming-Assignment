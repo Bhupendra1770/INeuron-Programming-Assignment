{
 "cells": [
  {
   "cell_type": "markdown",
   "id": "675845d3",
   "metadata": {},
   "source": [
    "### 1. Write a Python Program to Add two Matrices ?"
   ]
  },
  {
   "cell_type": "code",
   "execution_count": 1,
   "id": "1292fd5c",
   "metadata": {},
   "outputs": [
    {
     "name": "stdout",
     "output_type": "stream",
     "text": [
      "[[ 2  4  6]\n",
      " [ 8 10 12]\n",
      " [14 16 18]]\n"
     ]
    }
   ],
   "source": [
    "import numpy as np\n",
    "def add_matrices(a,b):\n",
    "    if len(a)==len(b):\n",
    "        for ele in range(len(a)):\n",
    "            if len(a[ele])==len(b[ele]):\n",
    "                output = np.array(a)+np.array(b)\n",
    "        return output        \n",
    "\n",
    "a = [[1,2,3],[4,5,6],[7,8,9]]\n",
    "b = [[1,2,3],[4,5,6],[7,8,9]]\n",
    "print(add_matrices(a,b))"
   ]
  },
  {
   "cell_type": "markdown",
   "id": "2e4c1983",
   "metadata": {},
   "source": [
    "### 2. Write a Python Program to Multiply two Matrices ?"
   ]
  },
  {
   "cell_type": "code",
   "execution_count": 2,
   "id": "f6c57cb3",
   "metadata": {},
   "outputs": [
    {
     "name": "stdout",
     "output_type": "stream",
     "text": [
      "[[ 1  4  9]\n",
      " [16 25 36]\n",
      " [49 64 81]]\n"
     ]
    }
   ],
   "source": [
    "import numpy as np\n",
    "def multiply_matrices(a,b):\n",
    "    if len(a)==len(b):\n",
    "        for ele in range(len(a)):\n",
    "            if len(a[ele])==len(b[ele]):\n",
    "                output = np.array(a)*np.array(b)\n",
    "        return output        \n",
    "\n",
    "a = [[1,2,3],[4,5,6],[7,8,9]]\n",
    "b = [[1,2,3],[4,5,6],[7,8,9]]\n",
    "print(multiply_matrices(a,b)) "
   ]
  },
  {
   "cell_type": "markdown",
   "id": "a8705b7d",
   "metadata": {},
   "source": [
    "### 3. Write a Python Program to transpose a Matrix ?"
   ]
  },
  {
   "cell_type": "code",
   "execution_count": 3,
   "id": "9f4fb7ff",
   "metadata": {},
   "outputs": [
    {
     "name": "stdout",
     "output_type": "stream",
     "text": [
      "Before transpose [[1, 2, 3], [4, 5, 6], [7, 8, 9]] , After transpose [[1, 4, 7], [2, 5, 8], [3, 6, 9]]\n",
      "Before transpose [[1, 2, 3], [4, 5, 6]] , After transpose [[1, 4], [2, 5], [3, 6]]\n"
     ]
    }
   ],
   "source": [
    "matrix1 = [[1,2,3],[4,5,6],[7,8,9]]\n",
    "matrix2 = [[1, 2, 3], [4, 5, 6]]\n",
    "def trans_matrix(a):\n",
    "    l=[]\n",
    "    for j in range(len(a[0])):\n",
    "        l1=[]\n",
    "        for i in range(len(a)):\n",
    "            l1.append(a[i][j])\n",
    "        l.append(l1)\n",
    "    return f'Before transpose {a} , After transpose {l}'   \n",
    "\n",
    "print(trans_matrix(matrix1))\n",
    "print(trans_matrix(matrix2))"
   ]
  },
  {
   "cell_type": "markdown",
   "id": "a27207c1",
   "metadata": {},
   "source": [
    "### 4. Write a Python Program to sort Words in an Alphabatical Order ?"
   ]
  },
  {
   "cell_type": "code",
   "execution_count": 4,
   "id": "7c55de3d",
   "metadata": {},
   "outputs": [
    {
     "data": {
      "text/plain": [
       "['Data', 'Full', 'Science', 'Stack']"
      ]
     },
     "execution_count": 4,
     "metadata": {},
     "output_type": "execute_result"
    }
   ],
   "source": [
    "string = 'full stack data science'\n",
    "def sort_string(s):\n",
    "    string = sorted(s.title().split(' '))\n",
    "    return string\n",
    "\n",
    "sort_string(string)"
   ]
  },
  {
   "cell_type": "markdown",
   "id": "89ca8a4b",
   "metadata": {},
   "source": [
    "### 5. Write a Python Program to remove Punctuations From a String ?"
   ]
  },
  {
   "cell_type": "code",
   "execution_count": 6,
   "id": "7110196d",
   "metadata": {},
   "outputs": [
    {
     "name": "stdout",
     "output_type": "stream",
     "text": [
      "enter string \"Hey, Budy:,' !, How are you?\"\n",
      "Hey Budy  How are you\n"
     ]
    }
   ],
   "source": [
    "def remove_Punc():\n",
    "    punctuation = '''!\"#$%&'()*,-./:;<>?@[\\]^_`|{}~'''\n",
    "    string = input(\"enter string \")\n",
    "    final_string = ''\n",
    "    for i in string:\n",
    "        if i not in punctuation:\n",
    "            final_string += i\n",
    "    print(final_string)\n",
    "    \n",
    "remove_Punc()"
   ]
  }
 ],
 "metadata": {
  "kernelspec": {
   "display_name": "Python 3 (ipykernel)",
   "language": "python",
   "name": "python3"
  },
  "language_info": {
   "codemirror_mode": {
    "name": "ipython",
    "version": 3
   },
   "file_extension": ".py",
   "mimetype": "text/x-python",
   "name": "python",
   "nbconvert_exporter": "python",
   "pygments_lexer": "ipython3",
   "version": "3.9.12"
  }
 },
 "nbformat": 4,
 "nbformat_minor": 5
}
